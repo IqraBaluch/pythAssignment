{
 "cells": [
  {
   "cell_type": "markdown",
   "metadata": {},
   "source": [
    "# Assignment no 2"
   ]
  },
  {
   "cell_type": "code",
   "execution_count": 10,
   "metadata": {},
   "outputs": [
    {
     "name": "stdout",
     "output_type": "stream",
     "text": [
      "STUDENTS' MARKSHEET\n",
      "Enter marks in Maths: 67\n",
      "Enter marks in Physics: 78\n",
      "Enter marks in Chemistry: 65\n",
      "Enter marks in English: 46\n",
      "Enter marks in Computer: 78\n",
      "Total Marks are: 334\n",
      "Percentage Marks are: 66.8\n",
      "Grade: D\n",
      "Remarks: FAIR\n",
      "Failed subjects count: 1\n",
      "Failed subjects name: English \n"
     ]
    }
   ],
   "source": [
    "print(\"STUDENTS' MARKSHEET\")\n",
    "sub1 = int(input(\"Enter marks in Maths: \"))\n",
    "sub2 = int(input(\"Enter marks in Physics: \"))\n",
    "sub3 = int(input(\"Enter marks in Chemistry: \"))\n",
    "sub4 = int(input(\"Enter marks in English: \"))\n",
    "sub5 = int(input(\"Enter marks in Computer: \"))\n",
    "\n",
    "total = (sub1 + sub2 + sub3 + sub4 + sub5)\n",
    "avg = total/5\n",
    "print(\"Total Marks are:\",total)\n",
    "print(\"Percentage Marks are:\",avg)\n",
    "if (avg>=90) :\n",
    "    print(\"Grade: A\")\n",
    "    print(\"Remarks: EXCELLENCE\")\n",
    "elif (avg>=80 and avg<90) :\n",
    "    print(\"Grade: B\")\n",
    "    print(\"Remarks: VERY GOOD\")\n",
    "elif (avg>=70 and avg<80) :\n",
    "    print(\"Grade: C\")\n",
    "    print(\"Remarks: GOOD\")\n",
    "elif (avg>=60 and avg<70) :\n",
    "    print(\"Grade: D\")\n",
    "    print(\"Remarks: FAIR\")\n",
    "else :\n",
    "    print(\"Grade: F\")\n",
    "    print(\"Remarks: FAILURE\")\n",
    "i = 0\n",
    "subs_name = \"\"\n",
    "if sub1 <60 :\n",
    "    i = i + 1\n",
    "    subs_name += \"Math \"\n",
    "if sub2 <60 :\n",
    "    i = i + 1\n",
    "    subs_name += \"Physics \"\n",
    "if sub3 <60 :\n",
    "    i = i + 1\n",
    "    subs_name += \"Chemistry \"\n",
    "if sub4 <60 :\n",
    "    i = i + 1\n",
    "    subs_name += \"English \"\n",
    "if sub5 <60 :\n",
    "    i = i + 1\n",
    "    subs_name += \"Computer \"\n",
    "print(\"Failed subjects count:\",i)\n",
    "print(\"Failed subjects name:\",subs_name)"
   ]
  },
  {
   "cell_type": "code",
   "execution_count": 3,
   "metadata": {},
   "outputs": [
    {
     "name": "stdout",
     "output_type": "stream",
     "text": [
      "Even OR Odd\n",
      "Enter a number 5\n",
      "5 is odd number\n"
     ]
    }
   ],
   "source": [
    "print(\"Even OR Odd\")\n",
    "x = int(input(\"Enter a number \"))\n",
    "\n",
    "if x%2==0 :\n",
    "    print(x,\"is even number\")\n",
    "else :\n",
    "    print(x,\"is odd number\")"
   ]
  },
  {
   "cell_type": "code",
   "execution_count": 6,
   "metadata": {},
   "outputs": [
    {
     "name": "stdout",
     "output_type": "stream",
     "text": [
      "Length Of List\n",
      "7\n"
     ]
    }
   ],
   "source": [
    "print(\"Length Of List\")\n",
    "list=[22,21,33,44,5,5,5]\n",
    "print(len(list))"
   ]
  },
  {
   "cell_type": "code",
   "execution_count": 7,
   "metadata": {},
   "outputs": [
    {
     "name": "stdout",
     "output_type": "stream",
     "text": [
      "sum of list= 135\n"
     ]
    }
   ],
   "source": [
    "list=[22,21,33,4,55]\n",
    "x=len(list)\n",
    "sum=0\n",
    "for i in range (x):\n",
    "    sum=sum+list[i]\n",
    "print(\"sum of list=\",sum)"
   ]
  },
  {
   "cell_type": "code",
   "execution_count": 8,
   "metadata": {},
   "outputs": [
    {
     "name": "stdout",
     "output_type": "stream",
     "text": [
      "55\n"
     ]
    }
   ],
   "source": [
    "list=[22,21,33,44,55]\n",
    "print(max(list))"
   ]
  },
  {
   "cell_type": "code",
   "execution_count": 9,
   "metadata": {},
   "outputs": [
    {
     "name": "stdout",
     "output_type": "stream",
     "text": [
      "1\n",
      "1\n",
      "2\n",
      "3\n"
     ]
    }
   ],
   "source": [
    "list=[1,1,2,3,5,8,13,21,34,55,89]\n",
    "x=len(list)\n",
    "for i in range(x):\n",
    "    if list[i]<5:\n",
    "        print(list[i])"
   ]
  },
  {
   "cell_type": "code",
   "execution_count": null,
   "metadata": {},
   "outputs": [],
   "source": []
  }
 ],
 "metadata": {
  "kernelspec": {
   "display_name": "Python 3",
   "language": "python",
   "name": "python3"
  },
  "language_info": {
   "codemirror_mode": {
    "name": "ipython",
    "version": 3
   },
   "file_extension": ".py",
   "mimetype": "text/x-python",
   "name": "python",
   "nbconvert_exporter": "python",
   "pygments_lexer": "ipython3",
   "version": "3.7.4"
  }
 },
 "nbformat": 4,
 "nbformat_minor": 2
}
